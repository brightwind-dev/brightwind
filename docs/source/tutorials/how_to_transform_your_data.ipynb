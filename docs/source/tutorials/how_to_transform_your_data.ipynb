{
 "cells": [
  {
   "cell_type": "markdown",
   "metadata": {},
   "source": [
    "<center>\n",
    "# How to transform your data\n",
    "</center>\n",
    "***"
   ]
  },
  {
   "cell_type": "code",
   "execution_count": 1,
   "metadata": {},
   "outputs": [
    {
     "name": "stdout",
     "output_type": "stream",
     "text": [
      "Last updated: 26 June, 2019\n"
     ]
    }
   ],
   "source": [
    "import datetime\n",
    "print('Last updated: {}'.format(datetime.date.today().strftime('%d %B, %Y')))"
   ]
  },
  {
   "cell_type": "markdown",
   "metadata": {},
   "source": [
    "*** \n",
    "<div style='margin-top: 3em; margin-bottom: 3em;'>\n",
    "</div>\n",
    "\n",
    "## Outline:\n",
    "\n",
    "This tutorial demonstrates how to use the following functions to transform a sample dataset in various ways. The tutorial covers the following steps:\n",
    "\n",
    "1. Importing the brightwind library and loading some sample data\n",
    "1. Using the `scale_wind_speed()` function\n",
    "2. Using the `average_data_by_period()` function\n",
    "1. Using the `adjust_slope_offset()` function\n",
    "1. Using the `offset_wind_direction()` function\n",
    "1. Using the `offset_timestamps()` function\n",
    "1. Using the `selective_avg()` function\n",
    "\n"
   ]
  },
  {
   "cell_type": "markdown",
   "metadata": {},
   "source": [
    "***\n",
    "\n",
    "<div style='margin-top: 3em; margin-bottom: 3em;'>\n",
    "</div>\n",
    "\n",
    "## 1. Importing the brightwind library and loading some sample data"
   ]
  },
  {
   "cell_type": "code",
   "execution_count": 2,
   "metadata": {},
   "outputs": [],
   "source": [
    "import brightwind as bw"
   ]
  },
  {
   "cell_type": "markdown",
   "metadata": {},
   "source": [
    "The following commands will load the exisiting dataset and show the first few timestamps."
   ]
  },
  {
   "cell_type": "code",
   "execution_count": 3,
   "metadata": {},
   "outputs": [
    {
     "data": {
      "text/html": [
       "<div>\n",
       "<style scoped>\n",
       "    .dataframe tbody tr th:only-of-type {\n",
       "        vertical-align: middle;\n",
       "    }\n",
       "\n",
       "    .dataframe tbody tr th {\n",
       "        vertical-align: top;\n",
       "    }\n",
       "\n",
       "    .dataframe thead th {\n",
       "        text-align: right;\n",
       "    }\n",
       "</style>\n",
       "<table border=\"1\" class=\"dataframe\">\n",
       "  <thead>\n",
       "    <tr style=\"text-align: right;\">\n",
       "      <th></th>\n",
       "      <th>Spd80mN</th>\n",
       "      <th>Spd80mS</th>\n",
       "      <th>Spd60mN</th>\n",
       "      <th>Spd60mS</th>\n",
       "      <th>Spd40mN</th>\n",
       "      <th>Spd40mS</th>\n",
       "      <th>Spd80mNStd</th>\n",
       "      <th>Spd80mSStd</th>\n",
       "      <th>Spd60mNStd</th>\n",
       "      <th>Spd60mSStd</th>\n",
       "      <th>...</th>\n",
       "      <th>Dir78mSStd</th>\n",
       "      <th>Dir58mS</th>\n",
       "      <th>Dir58mSStd</th>\n",
       "      <th>Dir38mS</th>\n",
       "      <th>Dir38mSStd</th>\n",
       "      <th>T2m</th>\n",
       "      <th>RH2m</th>\n",
       "      <th>P2m</th>\n",
       "      <th>PrcpTot</th>\n",
       "      <th>BattMin</th>\n",
       "    </tr>\n",
       "    <tr>\n",
       "      <th>Timestamp</th>\n",
       "      <th></th>\n",
       "      <th></th>\n",
       "      <th></th>\n",
       "      <th></th>\n",
       "      <th></th>\n",
       "      <th></th>\n",
       "      <th></th>\n",
       "      <th></th>\n",
       "      <th></th>\n",
       "      <th></th>\n",
       "      <th></th>\n",
       "      <th></th>\n",
       "      <th></th>\n",
       "      <th></th>\n",
       "      <th></th>\n",
       "      <th></th>\n",
       "      <th></th>\n",
       "      <th></th>\n",
       "      <th></th>\n",
       "      <th></th>\n",
       "      <th></th>\n",
       "    </tr>\n",
       "  </thead>\n",
       "  <tbody>\n",
       "    <tr>\n",
       "      <th>2016-01-09 15:30:00</th>\n",
       "      <td>8.370</td>\n",
       "      <td>7.911</td>\n",
       "      <td>8.160</td>\n",
       "      <td>7.849</td>\n",
       "      <td>7.857</td>\n",
       "      <td>7.626</td>\n",
       "      <td>1.240</td>\n",
       "      <td>1.075</td>\n",
       "      <td>1.060</td>\n",
       "      <td>0.947</td>\n",
       "      <td>...</td>\n",
       "      <td>6.100</td>\n",
       "      <td>110.1</td>\n",
       "      <td>6.009</td>\n",
       "      <td>112.2</td>\n",
       "      <td>5.724</td>\n",
       "      <td>0.711</td>\n",
       "      <td>100.0</td>\n",
       "      <td>935.0</td>\n",
       "      <td>0.0</td>\n",
       "      <td>12.94</td>\n",
       "    </tr>\n",
       "    <tr>\n",
       "      <th>2016-01-09 15:40:00</th>\n",
       "      <td>8.250</td>\n",
       "      <td>7.961</td>\n",
       "      <td>8.100</td>\n",
       "      <td>7.884</td>\n",
       "      <td>7.952</td>\n",
       "      <td>7.840</td>\n",
       "      <td>0.897</td>\n",
       "      <td>0.875</td>\n",
       "      <td>0.900</td>\n",
       "      <td>0.855</td>\n",
       "      <td>...</td>\n",
       "      <td>5.114</td>\n",
       "      <td>110.9</td>\n",
       "      <td>4.702</td>\n",
       "      <td>109.8</td>\n",
       "      <td>5.628</td>\n",
       "      <td>0.630</td>\n",
       "      <td>100.0</td>\n",
       "      <td>935.0</td>\n",
       "      <td>0.0</td>\n",
       "      <td>12.95</td>\n",
       "    </tr>\n",
       "    <tr>\n",
       "      <th>2016-01-09 17:00:00</th>\n",
       "      <td>7.652</td>\n",
       "      <td>7.545</td>\n",
       "      <td>7.671</td>\n",
       "      <td>7.551</td>\n",
       "      <td>7.531</td>\n",
       "      <td>7.457</td>\n",
       "      <td>0.756</td>\n",
       "      <td>0.703</td>\n",
       "      <td>0.797</td>\n",
       "      <td>0.749</td>\n",
       "      <td>...</td>\n",
       "      <td>4.172</td>\n",
       "      <td>113.1</td>\n",
       "      <td>3.447</td>\n",
       "      <td>111.8</td>\n",
       "      <td>4.016</td>\n",
       "      <td>1.126</td>\n",
       "      <td>100.0</td>\n",
       "      <td>934.0</td>\n",
       "      <td>0.0</td>\n",
       "      <td>12.75</td>\n",
       "    </tr>\n",
       "    <tr>\n",
       "      <th>2016-01-09 17:10:00</th>\n",
       "      <td>7.382</td>\n",
       "      <td>7.325</td>\n",
       "      <td>6.818</td>\n",
       "      <td>6.689</td>\n",
       "      <td>6.252</td>\n",
       "      <td>6.174</td>\n",
       "      <td>0.844</td>\n",
       "      <td>0.810</td>\n",
       "      <td>0.897</td>\n",
       "      <td>0.875</td>\n",
       "      <td>...</td>\n",
       "      <td>4.680</td>\n",
       "      <td>118.8</td>\n",
       "      <td>5.107</td>\n",
       "      <td>115.6</td>\n",
       "      <td>5.189</td>\n",
       "      <td>0.954</td>\n",
       "      <td>100.0</td>\n",
       "      <td>934.0</td>\n",
       "      <td>0.0</td>\n",
       "      <td>12.71</td>\n",
       "    </tr>\n",
       "    <tr>\n",
       "      <th>2016-01-09 17:20:00</th>\n",
       "      <td>7.977</td>\n",
       "      <td>7.791</td>\n",
       "      <td>8.110</td>\n",
       "      <td>7.915</td>\n",
       "      <td>8.140</td>\n",
       "      <td>7.974</td>\n",
       "      <td>0.556</td>\n",
       "      <td>0.528</td>\n",
       "      <td>0.562</td>\n",
       "      <td>0.524</td>\n",
       "      <td>...</td>\n",
       "      <td>3.123</td>\n",
       "      <td>115.9</td>\n",
       "      <td>2.960</td>\n",
       "      <td>113.6</td>\n",
       "      <td>3.540</td>\n",
       "      <td>0.863</td>\n",
       "      <td>100.0</td>\n",
       "      <td>934.0</td>\n",
       "      <td>0.0</td>\n",
       "      <td>12.69</td>\n",
       "    </tr>\n",
       "  </tbody>\n",
       "</table>\n",
       "<p>5 rows × 29 columns</p>\n",
       "</div>"
      ],
      "text/plain": [
       "                     Spd80mN  Spd80mS  Spd60mN  Spd60mS  Spd40mN  Spd40mS  \\\n",
       "Timestamp                                                                   \n",
       "2016-01-09 15:30:00    8.370    7.911    8.160    7.849    7.857    7.626   \n",
       "2016-01-09 15:40:00    8.250    7.961    8.100    7.884    7.952    7.840   \n",
       "2016-01-09 17:00:00    7.652    7.545    7.671    7.551    7.531    7.457   \n",
       "2016-01-09 17:10:00    7.382    7.325    6.818    6.689    6.252    6.174   \n",
       "2016-01-09 17:20:00    7.977    7.791    8.110    7.915    8.140    7.974   \n",
       "\n",
       "                     Spd80mNStd  Spd80mSStd  Spd60mNStd  Spd60mSStd   ...     \\\n",
       "Timestamp                                                             ...      \n",
       "2016-01-09 15:30:00       1.240       1.075       1.060       0.947   ...      \n",
       "2016-01-09 15:40:00       0.897       0.875       0.900       0.855   ...      \n",
       "2016-01-09 17:00:00       0.756       0.703       0.797       0.749   ...      \n",
       "2016-01-09 17:10:00       0.844       0.810       0.897       0.875   ...      \n",
       "2016-01-09 17:20:00       0.556       0.528       0.562       0.524   ...      \n",
       "\n",
       "                     Dir78mSStd  Dir58mS  Dir58mSStd  Dir38mS  Dir38mSStd  \\\n",
       "Timestamp                                                                   \n",
       "2016-01-09 15:30:00       6.100    110.1       6.009    112.2       5.724   \n",
       "2016-01-09 15:40:00       5.114    110.9       4.702    109.8       5.628   \n",
       "2016-01-09 17:00:00       4.172    113.1       3.447    111.8       4.016   \n",
       "2016-01-09 17:10:00       4.680    118.8       5.107    115.6       5.189   \n",
       "2016-01-09 17:20:00       3.123    115.9       2.960    113.6       3.540   \n",
       "\n",
       "                       T2m   RH2m    P2m  PrcpTot  BattMin  \n",
       "Timestamp                                                   \n",
       "2016-01-09 15:30:00  0.711  100.0  935.0      0.0    12.94  \n",
       "2016-01-09 15:40:00  0.630  100.0  935.0      0.0    12.95  \n",
       "2016-01-09 17:00:00  1.126  100.0  934.0      0.0    12.75  \n",
       "2016-01-09 17:10:00  0.954  100.0  934.0      0.0    12.71  \n",
       "2016-01-09 17:20:00  0.863  100.0  934.0      0.0    12.69  \n",
       "\n",
       "[5 rows x 29 columns]"
      ]
     },
     "execution_count": 3,
     "metadata": {},
     "output_type": "execute_result"
    }
   ],
   "source": [
    "# load existing sample dataset\n",
    "data = bw.load_csv(bw.datasets.demo_data)\n",
    "\n",
    "# show first few rows of dataframe\n",
    "data.head(5) "
   ]
  },
  {
   "cell_type": "markdown",
   "metadata": {},
   "source": [
    "***\n",
    "\n",
    "<div style='margin-top: 3em; margin-bottom: 3em;'>\n",
    "</div>\n",
    "\n",
    "## 2. Using the `scale_wind_speed()` function"
   ]
  },
  {
   "cell_type": "markdown",
   "metadata": {},
   "source": [
    "The following commands specify an arbitrary scale factor and apply this to one of the speed variables."
   ]
  },
  {
   "cell_type": "code",
   "execution_count": 4,
   "metadata": {},
   "outputs": [
    {
     "data": {
      "text/plain": [
       "Timestamp\n",
       "2016-01-09 15:30:00    8.62110\n",
       "2016-01-09 15:40:00    8.49750\n",
       "2016-01-09 17:00:00    7.88156\n",
       "2016-01-09 17:10:00    7.60346\n",
       "2016-01-09 17:20:00    8.21631\n",
       "Name: Spd80mN, dtype: float64"
      ]
     },
     "execution_count": 4,
     "metadata": {},
     "output_type": "execute_result"
    }
   ],
   "source": [
    "# specify scale factor\n",
    "scale_factor = 1.03 \n",
    "\n",
    "# apply scale factor to Spd80mN variable\n",
    "Spd80mN_scaled = bw.scale_wind_speed(data.Spd80mN, scale_factor) \n",
    "\n",
    "# print first 5 rows of result\n",
    "Spd80mN_scaled.head(5)"
   ]
  },
  {
   "cell_type": "markdown",
   "metadata": {},
   "source": [
    "Now we'll repeat the same step, this time saving the resulting data in the existing dataframe. The new variable appears as the last column on the right hand side of the returned dataframe."
   ]
  },
  {
   "cell_type": "code",
   "execution_count": 5,
   "metadata": {},
   "outputs": [
    {
     "data": {
      "text/html": [
       "<div>\n",
       "<style scoped>\n",
       "    .dataframe tbody tr th:only-of-type {\n",
       "        vertical-align: middle;\n",
       "    }\n",
       "\n",
       "    .dataframe tbody tr th {\n",
       "        vertical-align: top;\n",
       "    }\n",
       "\n",
       "    .dataframe thead th {\n",
       "        text-align: right;\n",
       "    }\n",
       "</style>\n",
       "<table border=\"1\" class=\"dataframe\">\n",
       "  <thead>\n",
       "    <tr style=\"text-align: right;\">\n",
       "      <th></th>\n",
       "      <th>Spd80mN</th>\n",
       "      <th>Spd80mS</th>\n",
       "      <th>Spd60mN</th>\n",
       "      <th>Spd60mS</th>\n",
       "      <th>Spd40mN</th>\n",
       "      <th>Spd40mS</th>\n",
       "      <th>Spd80mNStd</th>\n",
       "      <th>Spd80mSStd</th>\n",
       "      <th>Spd60mNStd</th>\n",
       "      <th>Spd60mSStd</th>\n",
       "      <th>...</th>\n",
       "      <th>Dir58mS</th>\n",
       "      <th>Dir58mSStd</th>\n",
       "      <th>Dir38mS</th>\n",
       "      <th>Dir38mSStd</th>\n",
       "      <th>T2m</th>\n",
       "      <th>RH2m</th>\n",
       "      <th>P2m</th>\n",
       "      <th>PrcpTot</th>\n",
       "      <th>BattMin</th>\n",
       "      <th>Spd80mN_scaled</th>\n",
       "    </tr>\n",
       "    <tr>\n",
       "      <th>Timestamp</th>\n",
       "      <th></th>\n",
       "      <th></th>\n",
       "      <th></th>\n",
       "      <th></th>\n",
       "      <th></th>\n",
       "      <th></th>\n",
       "      <th></th>\n",
       "      <th></th>\n",
       "      <th></th>\n",
       "      <th></th>\n",
       "      <th></th>\n",
       "      <th></th>\n",
       "      <th></th>\n",
       "      <th></th>\n",
       "      <th></th>\n",
       "      <th></th>\n",
       "      <th></th>\n",
       "      <th></th>\n",
       "      <th></th>\n",
       "      <th></th>\n",
       "      <th></th>\n",
       "    </tr>\n",
       "  </thead>\n",
       "  <tbody>\n",
       "    <tr>\n",
       "      <th>2016-01-09 15:30:00</th>\n",
       "      <td>8.370</td>\n",
       "      <td>7.911</td>\n",
       "      <td>8.160</td>\n",
       "      <td>7.849</td>\n",
       "      <td>7.857</td>\n",
       "      <td>7.626</td>\n",
       "      <td>1.240</td>\n",
       "      <td>1.075</td>\n",
       "      <td>1.060</td>\n",
       "      <td>0.947</td>\n",
       "      <td>...</td>\n",
       "      <td>110.1</td>\n",
       "      <td>6.009</td>\n",
       "      <td>112.2</td>\n",
       "      <td>5.724</td>\n",
       "      <td>0.711</td>\n",
       "      <td>100.0</td>\n",
       "      <td>935.0</td>\n",
       "      <td>0.0</td>\n",
       "      <td>12.94</td>\n",
       "      <td>8.62110</td>\n",
       "    </tr>\n",
       "    <tr>\n",
       "      <th>2016-01-09 15:40:00</th>\n",
       "      <td>8.250</td>\n",
       "      <td>7.961</td>\n",
       "      <td>8.100</td>\n",
       "      <td>7.884</td>\n",
       "      <td>7.952</td>\n",
       "      <td>7.840</td>\n",
       "      <td>0.897</td>\n",
       "      <td>0.875</td>\n",
       "      <td>0.900</td>\n",
       "      <td>0.855</td>\n",
       "      <td>...</td>\n",
       "      <td>110.9</td>\n",
       "      <td>4.702</td>\n",
       "      <td>109.8</td>\n",
       "      <td>5.628</td>\n",
       "      <td>0.630</td>\n",
       "      <td>100.0</td>\n",
       "      <td>935.0</td>\n",
       "      <td>0.0</td>\n",
       "      <td>12.95</td>\n",
       "      <td>8.49750</td>\n",
       "    </tr>\n",
       "    <tr>\n",
       "      <th>2016-01-09 17:00:00</th>\n",
       "      <td>7.652</td>\n",
       "      <td>7.545</td>\n",
       "      <td>7.671</td>\n",
       "      <td>7.551</td>\n",
       "      <td>7.531</td>\n",
       "      <td>7.457</td>\n",
       "      <td>0.756</td>\n",
       "      <td>0.703</td>\n",
       "      <td>0.797</td>\n",
       "      <td>0.749</td>\n",
       "      <td>...</td>\n",
       "      <td>113.1</td>\n",
       "      <td>3.447</td>\n",
       "      <td>111.8</td>\n",
       "      <td>4.016</td>\n",
       "      <td>1.126</td>\n",
       "      <td>100.0</td>\n",
       "      <td>934.0</td>\n",
       "      <td>0.0</td>\n",
       "      <td>12.75</td>\n",
       "      <td>7.88156</td>\n",
       "    </tr>\n",
       "    <tr>\n",
       "      <th>2016-01-09 17:10:00</th>\n",
       "      <td>7.382</td>\n",
       "      <td>7.325</td>\n",
       "      <td>6.818</td>\n",
       "      <td>6.689</td>\n",
       "      <td>6.252</td>\n",
       "      <td>6.174</td>\n",
       "      <td>0.844</td>\n",
       "      <td>0.810</td>\n",
       "      <td>0.897</td>\n",
       "      <td>0.875</td>\n",
       "      <td>...</td>\n",
       "      <td>118.8</td>\n",
       "      <td>5.107</td>\n",
       "      <td>115.6</td>\n",
       "      <td>5.189</td>\n",
       "      <td>0.954</td>\n",
       "      <td>100.0</td>\n",
       "      <td>934.0</td>\n",
       "      <td>0.0</td>\n",
       "      <td>12.71</td>\n",
       "      <td>7.60346</td>\n",
       "    </tr>\n",
       "    <tr>\n",
       "      <th>2016-01-09 17:20:00</th>\n",
       "      <td>7.977</td>\n",
       "      <td>7.791</td>\n",
       "      <td>8.110</td>\n",
       "      <td>7.915</td>\n",
       "      <td>8.140</td>\n",
       "      <td>7.974</td>\n",
       "      <td>0.556</td>\n",
       "      <td>0.528</td>\n",
       "      <td>0.562</td>\n",
       "      <td>0.524</td>\n",
       "      <td>...</td>\n",
       "      <td>115.9</td>\n",
       "      <td>2.960</td>\n",
       "      <td>113.6</td>\n",
       "      <td>3.540</td>\n",
       "      <td>0.863</td>\n",
       "      <td>100.0</td>\n",
       "      <td>934.0</td>\n",
       "      <td>0.0</td>\n",
       "      <td>12.69</td>\n",
       "      <td>8.21631</td>\n",
       "    </tr>\n",
       "  </tbody>\n",
       "</table>\n",
       "<p>5 rows × 30 columns</p>\n",
       "</div>"
      ],
      "text/plain": [
       "                     Spd80mN  Spd80mS  Spd60mN  Spd60mS  Spd40mN  Spd40mS  \\\n",
       "Timestamp                                                                   \n",
       "2016-01-09 15:30:00    8.370    7.911    8.160    7.849    7.857    7.626   \n",
       "2016-01-09 15:40:00    8.250    7.961    8.100    7.884    7.952    7.840   \n",
       "2016-01-09 17:00:00    7.652    7.545    7.671    7.551    7.531    7.457   \n",
       "2016-01-09 17:10:00    7.382    7.325    6.818    6.689    6.252    6.174   \n",
       "2016-01-09 17:20:00    7.977    7.791    8.110    7.915    8.140    7.974   \n",
       "\n",
       "                     Spd80mNStd  Spd80mSStd  Spd60mNStd  Spd60mSStd  \\\n",
       "Timestamp                                                             \n",
       "2016-01-09 15:30:00       1.240       1.075       1.060       0.947   \n",
       "2016-01-09 15:40:00       0.897       0.875       0.900       0.855   \n",
       "2016-01-09 17:00:00       0.756       0.703       0.797       0.749   \n",
       "2016-01-09 17:10:00       0.844       0.810       0.897       0.875   \n",
       "2016-01-09 17:20:00       0.556       0.528       0.562       0.524   \n",
       "\n",
       "                          ...        Dir58mS  Dir58mSStd  Dir38mS  Dir38mSStd  \\\n",
       "Timestamp                 ...                                                   \n",
       "2016-01-09 15:30:00       ...          110.1       6.009    112.2       5.724   \n",
       "2016-01-09 15:40:00       ...          110.9       4.702    109.8       5.628   \n",
       "2016-01-09 17:00:00       ...          113.1       3.447    111.8       4.016   \n",
       "2016-01-09 17:10:00       ...          118.8       5.107    115.6       5.189   \n",
       "2016-01-09 17:20:00       ...          115.9       2.960    113.6       3.540   \n",
       "\n",
       "                       T2m   RH2m    P2m  PrcpTot  BattMin  Spd80mN_scaled  \n",
       "Timestamp                                                                   \n",
       "2016-01-09 15:30:00  0.711  100.0  935.0      0.0    12.94         8.62110  \n",
       "2016-01-09 15:40:00  0.630  100.0  935.0      0.0    12.95         8.49750  \n",
       "2016-01-09 17:00:00  1.126  100.0  934.0      0.0    12.75         7.88156  \n",
       "2016-01-09 17:10:00  0.954  100.0  934.0      0.0    12.71         7.60346  \n",
       "2016-01-09 17:20:00  0.863  100.0  934.0      0.0    12.69         8.21631  \n",
       "\n",
       "[5 rows x 30 columns]"
      ]
     },
     "execution_count": 5,
     "metadata": {},
     "output_type": "execute_result"
    }
   ],
   "source": [
    "# apply scale factor to Spd80mN variable, creating a new variable in the existing dataframe\n",
    "data['Spd80mN_scaled'] = bw.scale_wind_speed(data.Spd80mN, scale_factor)\n",
    "\n",
    "# show first few rows of updated dataframe, scaled wind speed is included in the last column\n",
    "data.head(5) "
   ]
  },
  {
   "cell_type": "markdown",
   "metadata": {},
   "source": [
    "Finally, we can compare the mean values of the scaled and unscaled speed time series. The ratio of these mean values is shown to equal the intended scale factor."
   ]
  },
  {
   "cell_type": "code",
   "execution_count": 6,
   "metadata": {},
   "outputs": [
    {
     "name": "stdout",
     "output_type": "stream",
     "text": [
      "The unscaled mean speed is: \t 7.5 m/s\n",
      "The scaled mean speed is: \t 7.72 m/s\n",
      "The ratio of these values is: \t 1.03\n"
     ]
    }
   ],
   "source": [
    "# print unscaled mean speed\n",
    "print('The unscaled mean speed is: \\t {} m/s'.format(round(data.Spd80mN.mean(),2)))\n",
    "\n",
    "# print scaled mean speed\n",
    "print('The scaled mean speed is: \\t {} m/s'.format(round(data.Spd80mN_scaled.mean(),2)))\n",
    "\n",
    "# calculate ratio of mean values\n",
    "ratio = data.Spd80mN_scaled.mean()/data.Spd80mN.mean()\n",
    "    \n",
    "# print ratio of mean values\n",
    "print('The ratio of these values is: \\t {}'.format(round(ratio,2)))"
   ]
  },
  {
   "cell_type": "markdown",
   "metadata": {},
   "source": [
    "***\n",
    "\n",
    "<div style='margin-top: 3em; margin-bottom: 3em;'>\n",
    "</div>\n",
    "\n",
    "## 3. Using the `average_data_by_period()` function"
   ]
  },
  {
   "cell_type": "markdown",
   "metadata": {},
   "source": [
    "This function can be used to apply a window average to data, using a window which can be specified as any number of minutes ('min'), hours ('H'), days ('D'), weeks ('W'). '1M' and '1AS' can also used for monthly and annual averages respectively. The output is created within a new series. "
   ]
  },
  {
   "cell_type": "code",
   "execution_count": 7,
   "metadata": {
    "scrolled": true
   },
   "outputs": [
    {
     "data": {
      "text/plain": [
       "Timestamp\n",
       "2016-01-01    9.252377\n",
       "2016-02-01    8.904382\n",
       "2016-03-01    6.395166\n",
       "2016-04-01    6.598875\n",
       "2016-05-01    8.729657\n",
       "Freq: MS, Name: Spd80mN, dtype: float64"
      ]
     },
     "execution_count": 7,
     "metadata": {},
     "output_type": "execute_result"
    }
   ],
   "source": [
    "# then derive monthly averages\n",
    "data_monthly = bw.average_data_by_period(data.Spd80mN, period='1M')\n",
    "\n",
    "# show monthly averaged data for first 5 months\n",
    "data_monthly.head(5)"
   ]
  },
  {
   "cell_type": "markdown",
   "metadata": {},
   "source": [
    "***\n",
    "\n",
    "<div style='margin-top: 3em; margin-bottom: 3em;'>\n",
    "</div>\n",
    "\n",
    "## 4. Using the `adjust_slope_offset()` function"
   ]
  },
  {
   "cell_type": "markdown",
   "metadata": {},
   "source": [
    "Now, let's imagine that data from the northern anemometer at 80 m was logged with standard slope and offset values of 0.765 and 0.35, and we need to rescale this data considering slope and offset values from a calibration certificate which is specific to this anemometer. The following command can be used to do this, once again adding a new variable to the dataframe."
   ]
  },
  {
   "cell_type": "code",
   "execution_count": 8,
   "metadata": {},
   "outputs": [],
   "source": [
    "# Apply slope and offset adjustments\n",
    "data['Spd80mN_adj'] = bw.adjust_slope_offset(data.Spd80mN,0.765, 0.35, 0.7642, 0.352)"
   ]
  },
  {
   "cell_type": "markdown",
   "metadata": {},
   "source": [
    "Now let's view the raw and adjusted speed values side-by-side."
   ]
  },
  {
   "cell_type": "code",
   "execution_count": 9,
   "metadata": {},
   "outputs": [
    {
     "data": {
      "text/html": [
       "<div>\n",
       "<style scoped>\n",
       "    .dataframe tbody tr th:only-of-type {\n",
       "        vertical-align: middle;\n",
       "    }\n",
       "\n",
       "    .dataframe tbody tr th {\n",
       "        vertical-align: top;\n",
       "    }\n",
       "\n",
       "    .dataframe thead th {\n",
       "        text-align: right;\n",
       "    }\n",
       "</style>\n",
       "<table border=\"1\" class=\"dataframe\">\n",
       "  <thead>\n",
       "    <tr style=\"text-align: right;\">\n",
       "      <th></th>\n",
       "      <th>Spd80mN</th>\n",
       "      <th>Spd80mN_adj</th>\n",
       "    </tr>\n",
       "    <tr>\n",
       "      <th>Timestamp</th>\n",
       "      <th></th>\n",
       "      <th></th>\n",
       "    </tr>\n",
       "  </thead>\n",
       "  <tbody>\n",
       "    <tr>\n",
       "      <th>2016-01-09 15:30:00</th>\n",
       "      <td>8.370</td>\n",
       "      <td>8.363613</td>\n",
       "    </tr>\n",
       "    <tr>\n",
       "      <th>2016-01-09 15:40:00</th>\n",
       "      <td>8.250</td>\n",
       "      <td>8.243739</td>\n",
       "    </tr>\n",
       "    <tr>\n",
       "      <th>2016-01-09 17:00:00</th>\n",
       "      <td>7.652</td>\n",
       "      <td>7.646364</td>\n",
       "    </tr>\n",
       "    <tr>\n",
       "      <th>2016-01-09 17:10:00</th>\n",
       "      <td>7.382</td>\n",
       "      <td>7.376646</td>\n",
       "    </tr>\n",
       "    <tr>\n",
       "      <th>2016-01-09 17:20:00</th>\n",
       "      <td>7.977</td>\n",
       "      <td>7.971024</td>\n",
       "    </tr>\n",
       "  </tbody>\n",
       "</table>\n",
       "</div>"
      ],
      "text/plain": [
       "                     Spd80mN  Spd80mN_adj\n",
       "Timestamp                                \n",
       "2016-01-09 15:30:00    8.370     8.363613\n",
       "2016-01-09 15:40:00    8.250     8.243739\n",
       "2016-01-09 17:00:00    7.652     7.646364\n",
       "2016-01-09 17:10:00    7.382     7.376646\n",
       "2016-01-09 17:20:00    7.977     7.971024"
      ]
     },
     "execution_count": 9,
     "metadata": {},
     "output_type": "execute_result"
    }
   ],
   "source": [
    "# concatenate raw and adjusted variables\n",
    "summary = data[['Spd80mN', 'Spd80mN_adj']]\n",
    "\n",
    "# show first few values\n",
    "summary.head(5)"
   ]
  },
  {
   "cell_type": "markdown",
   "metadata": {},
   "source": [
    "***\n",
    "\n",
    "<div style='margin-top: 3em; margin-bottom: 3em;'>\n",
    "</div>\n",
    "\n",
    "## 5. Using the `offset_wind_direction()` function"
   ]
  },
  {
   "cell_type": "markdown",
   "metadata": {},
   "source": [
    "Similarly, the following function can be used to apply a scalar offset to direction data from a given wind vane."
   ]
  },
  {
   "cell_type": "code",
   "execution_count": 10,
   "metadata": {},
   "outputs": [
    {
     "data": {
      "text/html": [
       "<div>\n",
       "<style scoped>\n",
       "    .dataframe tbody tr th:only-of-type {\n",
       "        vertical-align: middle;\n",
       "    }\n",
       "\n",
       "    .dataframe tbody tr th {\n",
       "        vertical-align: top;\n",
       "    }\n",
       "\n",
       "    .dataframe thead th {\n",
       "        text-align: right;\n",
       "    }\n",
       "</style>\n",
       "<table border=\"1\" class=\"dataframe\">\n",
       "  <thead>\n",
       "    <tr style=\"text-align: right;\">\n",
       "      <th></th>\n",
       "      <th>Dir38mS</th>\n",
       "      <th>Dir38mS_adj</th>\n",
       "    </tr>\n",
       "    <tr>\n",
       "      <th>Timestamp</th>\n",
       "      <th></th>\n",
       "      <th></th>\n",
       "    </tr>\n",
       "  </thead>\n",
       "  <tbody>\n",
       "    <tr>\n",
       "      <th>2016-01-09 15:30:00</th>\n",
       "      <td>112.2</td>\n",
       "      <td>102.2</td>\n",
       "    </tr>\n",
       "    <tr>\n",
       "      <th>2016-01-09 15:40:00</th>\n",
       "      <td>109.8</td>\n",
       "      <td>99.8</td>\n",
       "    </tr>\n",
       "    <tr>\n",
       "      <th>2016-01-09 17:00:00</th>\n",
       "      <td>111.8</td>\n",
       "      <td>101.8</td>\n",
       "    </tr>\n",
       "    <tr>\n",
       "      <th>2016-01-09 17:10:00</th>\n",
       "      <td>115.6</td>\n",
       "      <td>105.6</td>\n",
       "    </tr>\n",
       "    <tr>\n",
       "      <th>2016-01-09 17:20:00</th>\n",
       "      <td>113.6</td>\n",
       "      <td>103.6</td>\n",
       "    </tr>\n",
       "  </tbody>\n",
       "</table>\n",
       "</div>"
      ],
      "text/plain": [
       "                     Dir38mS  Dir38mS_adj\n",
       "Timestamp                                \n",
       "2016-01-09 15:30:00    112.2        102.2\n",
       "2016-01-09 15:40:00    109.8         99.8\n",
       "2016-01-09 17:00:00    111.8        101.8\n",
       "2016-01-09 17:10:00    115.6        105.6\n",
       "2016-01-09 17:20:00    113.6        103.6"
      ]
     },
     "execution_count": 10,
     "metadata": {},
     "output_type": "execute_result"
    }
   ],
   "source": [
    "# apply directional offset\n",
    "data['Dir38mS_adj'] = bw.offset_wind_direction(data.Dir38mS, -10)\n",
    "\n",
    "# concatenate raw and adjusted variables\n",
    "summary = data[['Dir38mS', 'Dir38mS_adj']]\n",
    "\n",
    "# show first few values\n",
    "summary.head(5)"
   ]
  },
  {
   "cell_type": "markdown",
   "metadata": {},
   "source": [
    "***\n",
    "\n",
    "<div style='margin-top: 3em; margin-bottom: 3em;'>\n",
    "</div>\n",
    "\n",
    "## 6. Using the `offset_timestamps()` function"
   ]
  },
  {
   "cell_type": "markdown",
   "metadata": {},
   "source": [
    "This function can be used to apply an offset to the timestamps within a dataset. A few examples are provided below, first, let's print the first timestamp of the raw data for comparison."
   ]
  },
  {
   "cell_type": "code",
   "execution_count": 11,
   "metadata": {},
   "outputs": [
    {
     "name": "stdout",
     "output_type": "stream",
     "text": [
      "2016-01-09 15:30:00\n"
     ]
    }
   ],
   "source": [
    "# print first timestamp\n",
    "print(data.index[0])"
   ]
  },
  {
   "cell_type": "markdown",
   "metadata": {},
   "source": [
    "Now we'll add 1 hour and 30 minutes to the timestamps of the data and print the first timestamp once again. "
   ]
  },
  {
   "cell_type": "code",
   "execution_count": 12,
   "metadata": {},
   "outputs": [
    {
     "name": "stdout",
     "output_type": "stream",
     "text": [
      "2016-01-09 17:00:00\n"
     ]
    }
   ],
   "source": [
    "# add 90 minutes to timestamps\n",
    "data = bw.offset_timestamps(data, '1.5H')\n",
    "\n",
    "# print first timestamp\n",
    "print(data.index[0])"
   ]
  },
  {
   "cell_type": "markdown",
   "metadata": {},
   "source": [
    "Negative offsets can also be applied."
   ]
  },
  {
   "cell_type": "code",
   "execution_count": 13,
   "metadata": {},
   "outputs": [
    {
     "name": "stdout",
     "output_type": "stream",
     "text": [
      "2016-01-09 15:00:00\n"
     ]
    }
   ],
   "source": [
    "# subtract 2 hours from timestamps\n",
    "data = bw.offset_timestamps(data, '-2H')\n",
    "\n",
    "# print first timestamp\n",
    "print(data.index[0])"
   ]
  },
  {
   "cell_type": "markdown",
   "metadata": {},
   "source": [
    "Offsets can also be applied in minutes (positive or negative)."
   ]
  },
  {
   "cell_type": "code",
   "execution_count": 14,
   "metadata": {},
   "outputs": [
    {
     "name": "stdout",
     "output_type": "stream",
     "text": [
      "2016-01-09 15:07:00\n"
     ]
    }
   ],
   "source": [
    "# add 7 minutes to timestamps\n",
    "data = bw.offset_timestamps(data, '7min', overwrite=True)\n",
    "\n",
    "# print first timestamp\n",
    "print(data.index[0])"
   ]
  },
  {
   "cell_type": "markdown",
   "metadata": {},
   "source": [
    "Time offsets can also be restricted to a certain time period during the record using the following extra arguments. In this case we can see that the final adjustment has just been applied from the 2nd to the 4th timestamps. "
   ]
  },
  {
   "cell_type": "code",
   "execution_count": 15,
   "metadata": {
    "scrolled": true
   },
   "outputs": [
    {
     "data": {
      "text/html": [
       "<div>\n",
       "<style scoped>\n",
       "    .dataframe tbody tr th:only-of-type {\n",
       "        vertical-align: middle;\n",
       "    }\n",
       "\n",
       "    .dataframe tbody tr th {\n",
       "        vertical-align: top;\n",
       "    }\n",
       "\n",
       "    .dataframe thead th {\n",
       "        text-align: right;\n",
       "    }\n",
       "</style>\n",
       "<table border=\"1\" class=\"dataframe\">\n",
       "  <thead>\n",
       "    <tr style=\"text-align: right;\">\n",
       "      <th></th>\n",
       "      <th>Spd80mN</th>\n",
       "      <th>Spd80mS</th>\n",
       "      <th>Spd60mN</th>\n",
       "      <th>Spd60mS</th>\n",
       "      <th>Spd40mN</th>\n",
       "      <th>Spd40mS</th>\n",
       "      <th>Spd80mNStd</th>\n",
       "      <th>Spd80mSStd</th>\n",
       "      <th>Spd60mNStd</th>\n",
       "      <th>Spd60mSStd</th>\n",
       "      <th>...</th>\n",
       "      <th>Dir38mS</th>\n",
       "      <th>Dir38mSStd</th>\n",
       "      <th>T2m</th>\n",
       "      <th>RH2m</th>\n",
       "      <th>P2m</th>\n",
       "      <th>PrcpTot</th>\n",
       "      <th>BattMin</th>\n",
       "      <th>Spd80mN_scaled</th>\n",
       "      <th>Spd80mN_adj</th>\n",
       "      <th>Dir38mS_adj</th>\n",
       "    </tr>\n",
       "  </thead>\n",
       "  <tbody>\n",
       "    <tr>\n",
       "      <th>2016-01-09 15:07:00</th>\n",
       "      <td>8.370</td>\n",
       "      <td>7.911</td>\n",
       "      <td>8.160</td>\n",
       "      <td>7.849</td>\n",
       "      <td>7.857</td>\n",
       "      <td>7.626</td>\n",
       "      <td>1.240</td>\n",
       "      <td>1.075</td>\n",
       "      <td>1.060</td>\n",
       "      <td>0.947</td>\n",
       "      <td>...</td>\n",
       "      <td>112.2</td>\n",
       "      <td>5.724</td>\n",
       "      <td>0.711</td>\n",
       "      <td>100.0</td>\n",
       "      <td>935.0</td>\n",
       "      <td>0.0</td>\n",
       "      <td>12.94</td>\n",
       "      <td>8.62110</td>\n",
       "      <td>8.363613</td>\n",
       "      <td>102.2</td>\n",
       "    </tr>\n",
       "    <tr>\n",
       "      <th>2016-01-09 15:10:00</th>\n",
       "      <td>8.250</td>\n",
       "      <td>7.961</td>\n",
       "      <td>8.100</td>\n",
       "      <td>7.884</td>\n",
       "      <td>7.952</td>\n",
       "      <td>7.840</td>\n",
       "      <td>0.897</td>\n",
       "      <td>0.875</td>\n",
       "      <td>0.900</td>\n",
       "      <td>0.855</td>\n",
       "      <td>...</td>\n",
       "      <td>109.8</td>\n",
       "      <td>5.628</td>\n",
       "      <td>0.630</td>\n",
       "      <td>100.0</td>\n",
       "      <td>935.0</td>\n",
       "      <td>0.0</td>\n",
       "      <td>12.95</td>\n",
       "      <td>8.49750</td>\n",
       "      <td>8.243739</td>\n",
       "      <td>99.8</td>\n",
       "    </tr>\n",
       "    <tr>\n",
       "      <th>2016-01-09 16:30:00</th>\n",
       "      <td>7.652</td>\n",
       "      <td>7.545</td>\n",
       "      <td>7.671</td>\n",
       "      <td>7.551</td>\n",
       "      <td>7.531</td>\n",
       "      <td>7.457</td>\n",
       "      <td>0.756</td>\n",
       "      <td>0.703</td>\n",
       "      <td>0.797</td>\n",
       "      <td>0.749</td>\n",
       "      <td>...</td>\n",
       "      <td>111.8</td>\n",
       "      <td>4.016</td>\n",
       "      <td>1.126</td>\n",
       "      <td>100.0</td>\n",
       "      <td>934.0</td>\n",
       "      <td>0.0</td>\n",
       "      <td>12.75</td>\n",
       "      <td>7.88156</td>\n",
       "      <td>7.646364</td>\n",
       "      <td>101.8</td>\n",
       "    </tr>\n",
       "    <tr>\n",
       "      <th>2016-01-09 16:40:00</th>\n",
       "      <td>7.382</td>\n",
       "      <td>7.325</td>\n",
       "      <td>6.818</td>\n",
       "      <td>6.689</td>\n",
       "      <td>6.252</td>\n",
       "      <td>6.174</td>\n",
       "      <td>0.844</td>\n",
       "      <td>0.810</td>\n",
       "      <td>0.897</td>\n",
       "      <td>0.875</td>\n",
       "      <td>...</td>\n",
       "      <td>115.6</td>\n",
       "      <td>5.189</td>\n",
       "      <td>0.954</td>\n",
       "      <td>100.0</td>\n",
       "      <td>934.0</td>\n",
       "      <td>0.0</td>\n",
       "      <td>12.71</td>\n",
       "      <td>7.60346</td>\n",
       "      <td>7.376646</td>\n",
       "      <td>105.6</td>\n",
       "    </tr>\n",
       "    <tr>\n",
       "      <th>2016-01-09 16:57:00</th>\n",
       "      <td>7.977</td>\n",
       "      <td>7.791</td>\n",
       "      <td>8.110</td>\n",
       "      <td>7.915</td>\n",
       "      <td>8.140</td>\n",
       "      <td>7.974</td>\n",
       "      <td>0.556</td>\n",
       "      <td>0.528</td>\n",
       "      <td>0.562</td>\n",
       "      <td>0.524</td>\n",
       "      <td>...</td>\n",
       "      <td>113.6</td>\n",
       "      <td>3.540</td>\n",
       "      <td>0.863</td>\n",
       "      <td>100.0</td>\n",
       "      <td>934.0</td>\n",
       "      <td>0.0</td>\n",
       "      <td>12.69</td>\n",
       "      <td>8.21631</td>\n",
       "      <td>7.971024</td>\n",
       "      <td>103.6</td>\n",
       "    </tr>\n",
       "  </tbody>\n",
       "</table>\n",
       "<p>5 rows × 32 columns</p>\n",
       "</div>"
      ],
      "text/plain": [
       "                     Spd80mN  Spd80mS  Spd60mN  Spd60mS  Spd40mN  Spd40mS  \\\n",
       "2016-01-09 15:07:00    8.370    7.911    8.160    7.849    7.857    7.626   \n",
       "2016-01-09 15:10:00    8.250    7.961    8.100    7.884    7.952    7.840   \n",
       "2016-01-09 16:30:00    7.652    7.545    7.671    7.551    7.531    7.457   \n",
       "2016-01-09 16:40:00    7.382    7.325    6.818    6.689    6.252    6.174   \n",
       "2016-01-09 16:57:00    7.977    7.791    8.110    7.915    8.140    7.974   \n",
       "\n",
       "                     Spd80mNStd  Spd80mSStd  Spd60mNStd  Spd60mSStd  \\\n",
       "2016-01-09 15:07:00       1.240       1.075       1.060       0.947   \n",
       "2016-01-09 15:10:00       0.897       0.875       0.900       0.855   \n",
       "2016-01-09 16:30:00       0.756       0.703       0.797       0.749   \n",
       "2016-01-09 16:40:00       0.844       0.810       0.897       0.875   \n",
       "2016-01-09 16:57:00       0.556       0.528       0.562       0.524   \n",
       "\n",
       "                        ...       Dir38mS  Dir38mSStd    T2m   RH2m    P2m  \\\n",
       "2016-01-09 15:07:00     ...         112.2       5.724  0.711  100.0  935.0   \n",
       "2016-01-09 15:10:00     ...         109.8       5.628  0.630  100.0  935.0   \n",
       "2016-01-09 16:30:00     ...         111.8       4.016  1.126  100.0  934.0   \n",
       "2016-01-09 16:40:00     ...         115.6       5.189  0.954  100.0  934.0   \n",
       "2016-01-09 16:57:00     ...         113.6       3.540  0.863  100.0  934.0   \n",
       "\n",
       "                     PrcpTot  BattMin  Spd80mN_scaled  Spd80mN_adj  \\\n",
       "2016-01-09 15:07:00      0.0    12.94         8.62110     8.363613   \n",
       "2016-01-09 15:10:00      0.0    12.95         8.49750     8.243739   \n",
       "2016-01-09 16:30:00      0.0    12.75         7.88156     7.646364   \n",
       "2016-01-09 16:40:00      0.0    12.71         7.60346     7.376646   \n",
       "2016-01-09 16:57:00      0.0    12.69         8.21631     7.971024   \n",
       "\n",
       "                     Dir38mS_adj  \n",
       "2016-01-09 15:07:00        102.2  \n",
       "2016-01-09 15:10:00         99.8  \n",
       "2016-01-09 16:30:00        101.8  \n",
       "2016-01-09 16:40:00        105.6  \n",
       "2016-01-09 16:57:00        103.6  \n",
       "\n",
       "[5 rows x 32 columns]"
      ]
     },
     "execution_count": 15,
     "metadata": {},
     "output_type": "execute_result"
    }
   ],
   "source": [
    "# subtract 7 minutes from timestamps between the datetime range below\n",
    "data = bw.offset_timestamps(data, '-7min', date_from='2016-01-09 15:17:00', date_to='2016-01-09 16:47:00')\n",
    "\n",
    "# show all data for first 5 timestamps \n",
    "data.head(5)"
   ]
  },
  {
   "cell_type": "markdown",
   "metadata": {},
   "source": [
    "If the timestamp is adjustment is large enough to overlap the unadjusted data before/after the 'date_from'/'date_to', by default the function will not overwrite the unadjusted data. The argument 'overwrite=True' can be specified to change this default and overwrite the neighbouring timestamps."
   ]
  },
  {
   "cell_type": "markdown",
   "metadata": {},
   "source": [
    "Finally, note that the adjusted timestamps can be allocated to a completely new dataframe, leaving the input dataset unchanged."
   ]
  },
  {
   "cell_type": "code",
   "execution_count": 16,
   "metadata": {},
   "outputs": [],
   "source": [
    "# create new dataset with 6H added to the original timestamps\n",
    "data_adj = bw.offset_timestamps(data, '6H')"
   ]
  },
  {
   "cell_type": "markdown",
   "metadata": {},
   "source": [
    "***\n",
    "\n",
    "<div style='margin-top: 3em; margin-bottom: 3em;'>\n",
    "</div>\n",
    "\n",
    "## 7. Using the `selective_avg()` function"
   ]
  },
  {
   "cell_type": "markdown",
   "metadata": {},
   "source": [
    "This function can be used to create a time series of wind speed using data from two anemometers mounted at the same height, along with one wind vane. For each timestamp in the dataset, the function either averages the two wind speed values or only includes the upstream wind speed value if the other is in the wake of the mast. The wake is defined by winds approaching the mast from the opposite site of the boom within a directional sector of a given size (in this case 60 degrees)."
   ]
  },
  {
   "cell_type": "code",
   "execution_count": 17,
   "metadata": {},
   "outputs": [],
   "source": [
    "# derive selective average variable based on two 80 m anemeters and 78 m wind vane\n",
    "data['sel_avg_80m'] = bw.selective_avg(data.Spd80mN, data.Spd80mS, wdir=data.Dir78mS, boom_dir_1=0, boom_dir_2=180, sector_width=60)"
   ]
  },
  {
   "cell_type": "code",
   "execution_count": 18,
   "metadata": {},
   "outputs": [
    {
     "data": {
      "text/html": [
       "<div>\n",
       "<style scoped>\n",
       "    .dataframe tbody tr th:only-of-type {\n",
       "        vertical-align: middle;\n",
       "    }\n",
       "\n",
       "    .dataframe tbody tr th {\n",
       "        vertical-align: top;\n",
       "    }\n",
       "\n",
       "    .dataframe thead th {\n",
       "        text-align: right;\n",
       "    }\n",
       "</style>\n",
       "<table border=\"1\" class=\"dataframe\">\n",
       "  <thead>\n",
       "    <tr style=\"text-align: right;\">\n",
       "      <th></th>\n",
       "      <th>Spd80mN</th>\n",
       "      <th>Spd80mS</th>\n",
       "      <th>Dir78mS</th>\n",
       "      <th>sel_avg_80m</th>\n",
       "    </tr>\n",
       "  </thead>\n",
       "  <tbody>\n",
       "    <tr>\n",
       "      <th>2016-01-09 15:07:00</th>\n",
       "      <td>8.370</td>\n",
       "      <td>7.911</td>\n",
       "      <td>114.2</td>\n",
       "      <td>8.1405</td>\n",
       "    </tr>\n",
       "    <tr>\n",
       "      <th>2016-01-09 15:10:00</th>\n",
       "      <td>8.250</td>\n",
       "      <td>7.961</td>\n",
       "      <td>114.4</td>\n",
       "      <td>8.1055</td>\n",
       "    </tr>\n",
       "    <tr>\n",
       "      <th>2016-01-09 16:30:00</th>\n",
       "      <td>7.652</td>\n",
       "      <td>7.545</td>\n",
       "      <td>117.8</td>\n",
       "      <td>7.5985</td>\n",
       "    </tr>\n",
       "    <tr>\n",
       "      <th>2016-01-09 16:40:00</th>\n",
       "      <td>7.382</td>\n",
       "      <td>7.325</td>\n",
       "      <td>124.5</td>\n",
       "      <td>7.3535</td>\n",
       "    </tr>\n",
       "    <tr>\n",
       "      <th>2016-01-09 16:57:00</th>\n",
       "      <td>7.977</td>\n",
       "      <td>7.791</td>\n",
       "      <td>120.9</td>\n",
       "      <td>7.8840</td>\n",
       "    </tr>\n",
       "  </tbody>\n",
       "</table>\n",
       "</div>"
      ],
      "text/plain": [
       "                     Spd80mN  Spd80mS  Dir78mS  sel_avg_80m\n",
       "2016-01-09 15:07:00    8.370    7.911    114.2       8.1405\n",
       "2016-01-09 15:10:00    8.250    7.961    114.4       8.1055\n",
       "2016-01-09 16:30:00    7.652    7.545    117.8       7.5985\n",
       "2016-01-09 16:40:00    7.382    7.325    124.5       7.3535\n",
       "2016-01-09 16:57:00    7.977    7.791    120.9       7.8840"
      ]
     },
     "execution_count": 18,
     "metadata": {},
     "output_type": "execute_result"
    }
   ],
   "source": [
    "# concatenate inputs and new output variable\n",
    "summary = data[['Spd80mN', 'Spd80mS', 'Dir78mS','sel_avg_80m']]\n",
    "\n",
    "# show the first 5 entries, none of which include waked anemometers\n",
    "summary.head(5)"
   ]
  },
  {
   "cell_type": "markdown",
   "metadata": {},
   "source": [
    "***\n",
    "\n",
    "<div style='margin-top: 3em; margin-bottom: 3em;'>\n",
    "</div>"
   ]
  }
 ],
 "metadata": {
  "kernelspec": {
   "display_name": "Python 3",
   "language": "python",
   "name": "python3"
  },
  "language_info": {
   "codemirror_mode": {
    "name": "ipython",
    "version": 3
   },
   "file_extension": ".py",
   "mimetype": "text/x-python",
   "name": "python",
   "nbconvert_exporter": "python",
   "pygments_lexer": "ipython3",
   "version": "3.7.3"
  }
 },
 "nbformat": 4,
 "nbformat_minor": 2
}
