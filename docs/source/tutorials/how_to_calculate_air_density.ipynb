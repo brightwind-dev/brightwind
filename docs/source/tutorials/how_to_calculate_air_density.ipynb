{
 "cells": [
  {
   "cell_type": "markdown",
   "metadata": {},
   "source": [
    "<center>\n",
    "# How to calculate air density using the brightwind library\n",
    "</center>\n",
    "***"
   ]
  },
  {
   "cell_type": "code",
   "execution_count": 1,
   "metadata": {},
   "outputs": [
    {
     "name": "stdout",
     "output_type": "stream",
     "text": [
      "Last updated: 26 June, 2019\n"
     ]
    }
   ],
   "source": [
    "import datetime\n",
    "print('Last updated: {}'.format(datetime.date.today().strftime('%d %B, %Y')))"
   ]
  },
  {
   "cell_type": "markdown",
   "metadata": {},
   "source": [
    "***\n",
    "## Outline:\n",
    "\n",
    "This guide will demonstrate how to get some useful statistics from a sample dataset using the following steps:\n",
    "\n",
    "- Import the brightwind library and some sample data\n",
    "- Calculate the air density for each timestamp in the data\n",
    "- Calculate the air density with the average temperature and pressure recorded at the site\n",
    "- Scale the air density up to hub height using a typical lapse rate\n",
    "\n",
    "***"
   ]
  },
  {
   "cell_type": "code",
   "execution_count": 2,
   "metadata": {},
   "outputs": [],
   "source": [
    "import brightwind as bw"
   ]
  },
  {
   "cell_type": "code",
   "execution_count": 3,
   "metadata": {},
   "outputs": [
    {
     "data": {
      "text/html": [
       "<div>\n",
       "<style scoped>\n",
       "    .dataframe tbody tr th:only-of-type {\n",
       "        vertical-align: middle;\n",
       "    }\n",
       "\n",
       "    .dataframe tbody tr th {\n",
       "        vertical-align: top;\n",
       "    }\n",
       "\n",
       "    .dataframe thead th {\n",
       "        text-align: right;\n",
       "    }\n",
       "</style>\n",
       "<table border=\"1\" class=\"dataframe\">\n",
       "  <thead>\n",
       "    <tr style=\"text-align: right;\">\n",
       "      <th></th>\n",
       "      <th>Spd80mN</th>\n",
       "      <th>Spd80mS</th>\n",
       "      <th>Spd60mN</th>\n",
       "      <th>Spd60mS</th>\n",
       "      <th>Spd40mN</th>\n",
       "      <th>Spd40mS</th>\n",
       "      <th>Spd80mNStd</th>\n",
       "      <th>Spd80mSStd</th>\n",
       "      <th>Spd60mNStd</th>\n",
       "      <th>Spd60mSStd</th>\n",
       "      <th>...</th>\n",
       "      <th>Dir78mSStd</th>\n",
       "      <th>Dir58mS</th>\n",
       "      <th>Dir58mSStd</th>\n",
       "      <th>Dir38mS</th>\n",
       "      <th>Dir38mSStd</th>\n",
       "      <th>T2m</th>\n",
       "      <th>RH2m</th>\n",
       "      <th>P2m</th>\n",
       "      <th>PrcpTot</th>\n",
       "      <th>BattMin</th>\n",
       "    </tr>\n",
       "    <tr>\n",
       "      <th>Timestamp</th>\n",
       "      <th></th>\n",
       "      <th></th>\n",
       "      <th></th>\n",
       "      <th></th>\n",
       "      <th></th>\n",
       "      <th></th>\n",
       "      <th></th>\n",
       "      <th></th>\n",
       "      <th></th>\n",
       "      <th></th>\n",
       "      <th></th>\n",
       "      <th></th>\n",
       "      <th></th>\n",
       "      <th></th>\n",
       "      <th></th>\n",
       "      <th></th>\n",
       "      <th></th>\n",
       "      <th></th>\n",
       "      <th></th>\n",
       "      <th></th>\n",
       "      <th></th>\n",
       "    </tr>\n",
       "  </thead>\n",
       "  <tbody>\n",
       "    <tr>\n",
       "      <th>2016-01-09 15:30:00</th>\n",
       "      <td>8.370</td>\n",
       "      <td>7.911</td>\n",
       "      <td>8.160</td>\n",
       "      <td>7.849</td>\n",
       "      <td>7.857</td>\n",
       "      <td>7.626</td>\n",
       "      <td>1.240</td>\n",
       "      <td>1.075</td>\n",
       "      <td>1.060</td>\n",
       "      <td>0.947</td>\n",
       "      <td>...</td>\n",
       "      <td>6.100</td>\n",
       "      <td>110.1</td>\n",
       "      <td>6.009</td>\n",
       "      <td>112.2</td>\n",
       "      <td>5.724</td>\n",
       "      <td>0.711</td>\n",
       "      <td>100.0</td>\n",
       "      <td>935.0</td>\n",
       "      <td>0.0</td>\n",
       "      <td>12.94</td>\n",
       "    </tr>\n",
       "    <tr>\n",
       "      <th>2016-01-09 15:40:00</th>\n",
       "      <td>8.250</td>\n",
       "      <td>7.961</td>\n",
       "      <td>8.100</td>\n",
       "      <td>7.884</td>\n",
       "      <td>7.952</td>\n",
       "      <td>7.840</td>\n",
       "      <td>0.897</td>\n",
       "      <td>0.875</td>\n",
       "      <td>0.900</td>\n",
       "      <td>0.855</td>\n",
       "      <td>...</td>\n",
       "      <td>5.114</td>\n",
       "      <td>110.9</td>\n",
       "      <td>4.702</td>\n",
       "      <td>109.8</td>\n",
       "      <td>5.628</td>\n",
       "      <td>0.630</td>\n",
       "      <td>100.0</td>\n",
       "      <td>935.0</td>\n",
       "      <td>0.0</td>\n",
       "      <td>12.95</td>\n",
       "    </tr>\n",
       "    <tr>\n",
       "      <th>2016-01-09 17:00:00</th>\n",
       "      <td>7.652</td>\n",
       "      <td>7.545</td>\n",
       "      <td>7.671</td>\n",
       "      <td>7.551</td>\n",
       "      <td>7.531</td>\n",
       "      <td>7.457</td>\n",
       "      <td>0.756</td>\n",
       "      <td>0.703</td>\n",
       "      <td>0.797</td>\n",
       "      <td>0.749</td>\n",
       "      <td>...</td>\n",
       "      <td>4.172</td>\n",
       "      <td>113.1</td>\n",
       "      <td>3.447</td>\n",
       "      <td>111.8</td>\n",
       "      <td>4.016</td>\n",
       "      <td>1.126</td>\n",
       "      <td>100.0</td>\n",
       "      <td>934.0</td>\n",
       "      <td>0.0</td>\n",
       "      <td>12.75</td>\n",
       "    </tr>\n",
       "    <tr>\n",
       "      <th>2016-01-09 17:10:00</th>\n",
       "      <td>7.382</td>\n",
       "      <td>7.325</td>\n",
       "      <td>6.818</td>\n",
       "      <td>6.689</td>\n",
       "      <td>6.252</td>\n",
       "      <td>6.174</td>\n",
       "      <td>0.844</td>\n",
       "      <td>0.810</td>\n",
       "      <td>0.897</td>\n",
       "      <td>0.875</td>\n",
       "      <td>...</td>\n",
       "      <td>4.680</td>\n",
       "      <td>118.8</td>\n",
       "      <td>5.107</td>\n",
       "      <td>115.6</td>\n",
       "      <td>5.189</td>\n",
       "      <td>0.954</td>\n",
       "      <td>100.0</td>\n",
       "      <td>934.0</td>\n",
       "      <td>0.0</td>\n",
       "      <td>12.71</td>\n",
       "    </tr>\n",
       "    <tr>\n",
       "      <th>2016-01-09 17:20:00</th>\n",
       "      <td>7.977</td>\n",
       "      <td>7.791</td>\n",
       "      <td>8.110</td>\n",
       "      <td>7.915</td>\n",
       "      <td>8.140</td>\n",
       "      <td>7.974</td>\n",
       "      <td>0.556</td>\n",
       "      <td>0.528</td>\n",
       "      <td>0.562</td>\n",
       "      <td>0.524</td>\n",
       "      <td>...</td>\n",
       "      <td>3.123</td>\n",
       "      <td>115.9</td>\n",
       "      <td>2.960</td>\n",
       "      <td>113.6</td>\n",
       "      <td>3.540</td>\n",
       "      <td>0.863</td>\n",
       "      <td>100.0</td>\n",
       "      <td>934.0</td>\n",
       "      <td>0.0</td>\n",
       "      <td>12.69</td>\n",
       "    </tr>\n",
       "  </tbody>\n",
       "</table>\n",
       "<p>5 rows × 29 columns</p>\n",
       "</div>"
      ],
      "text/plain": [
       "                     Spd80mN  Spd80mS  Spd60mN  Spd60mS  Spd40mN  Spd40mS  \\\n",
       "Timestamp                                                                   \n",
       "2016-01-09 15:30:00    8.370    7.911    8.160    7.849    7.857    7.626   \n",
       "2016-01-09 15:40:00    8.250    7.961    8.100    7.884    7.952    7.840   \n",
       "2016-01-09 17:00:00    7.652    7.545    7.671    7.551    7.531    7.457   \n",
       "2016-01-09 17:10:00    7.382    7.325    6.818    6.689    6.252    6.174   \n",
       "2016-01-09 17:20:00    7.977    7.791    8.110    7.915    8.140    7.974   \n",
       "\n",
       "                     Spd80mNStd  Spd80mSStd  Spd60mNStd  Spd60mSStd  ...  \\\n",
       "Timestamp                                                            ...   \n",
       "2016-01-09 15:30:00       1.240       1.075       1.060       0.947  ...   \n",
       "2016-01-09 15:40:00       0.897       0.875       0.900       0.855  ...   \n",
       "2016-01-09 17:00:00       0.756       0.703       0.797       0.749  ...   \n",
       "2016-01-09 17:10:00       0.844       0.810       0.897       0.875  ...   \n",
       "2016-01-09 17:20:00       0.556       0.528       0.562       0.524  ...   \n",
       "\n",
       "                     Dir78mSStd  Dir58mS  Dir58mSStd  Dir38mS  Dir38mSStd  \\\n",
       "Timestamp                                                                   \n",
       "2016-01-09 15:30:00       6.100    110.1       6.009    112.2       5.724   \n",
       "2016-01-09 15:40:00       5.114    110.9       4.702    109.8       5.628   \n",
       "2016-01-09 17:00:00       4.172    113.1       3.447    111.8       4.016   \n",
       "2016-01-09 17:10:00       4.680    118.8       5.107    115.6       5.189   \n",
       "2016-01-09 17:20:00       3.123    115.9       2.960    113.6       3.540   \n",
       "\n",
       "                       T2m   RH2m    P2m  PrcpTot  BattMin  \n",
       "Timestamp                                                   \n",
       "2016-01-09 15:30:00  0.711  100.0  935.0      0.0    12.94  \n",
       "2016-01-09 15:40:00  0.630  100.0  935.0      0.0    12.95  \n",
       "2016-01-09 17:00:00  1.126  100.0  934.0      0.0    12.75  \n",
       "2016-01-09 17:10:00  0.954  100.0  934.0      0.0    12.71  \n",
       "2016-01-09 17:20:00  0.863  100.0  934.0      0.0    12.69  \n",
       "\n",
       "[5 rows x 29 columns]"
      ]
     },
     "execution_count": 3,
     "metadata": {},
     "output_type": "execute_result"
    }
   ],
   "source": [
    "# specify location of existing sample dataset\n",
    "filepath = r'C:\\...\\brightwind\\datasets\\demo\\demo_data.csv'\n",
    "# load data as dataframe\n",
    "data = bw.load_csv(filepath) \n",
    "# show first few rows of dataframe\n",
    "data.head(5)"
   ]
  },
  {
   "cell_type": "markdown",
   "metadata": {},
   "source": [
    "### Calculate Air Density"
   ]
  },
  {
   "cell_type": "markdown",
   "metadata": {},
   "source": [
    "The air density can be calculated for each timestamp in the timeseries by passing the temperature (in degrees Celsius) and pressure (in hPa) by passing the column relating to temperature and pressure from the site data using the `calc_air_density()` function."
   ]
  },
  {
   "cell_type": "code",
   "execution_count": 4,
   "metadata": {},
   "outputs": [
    {
     "data": {
      "text/plain": [
       "Timestamp\n",
       "2016-01-09 15:30:00    1.190011\n",
       "2016-01-09 15:40:00    1.190363\n",
       "2016-01-09 17:00:00    1.186939\n",
       "2016-01-09 17:10:00    1.187684\n",
       "2016-01-09 17:20:00    1.188079\n",
       "2016-01-09 17:30:00    1.188651\n",
       "2016-01-09 17:40:00    1.186854\n",
       "2016-01-09 17:50:00    1.187205\n",
       "2016-01-09 18:00:00    1.186590\n",
       "2016-01-09 18:10:00    1.186941\n",
       "2016-01-09 18:20:00    1.188168\n",
       "2016-01-09 18:30:00    1.188255\n",
       "2016-01-09 18:40:00    1.187994\n",
       "2016-01-09 18:50:00    1.187333\n",
       "2016-01-09 19:00:00    1.186236\n",
       "2016-01-09 19:10:00    1.186279\n",
       "2016-01-09 19:20:00    1.186193\n",
       "2016-01-09 19:30:00    1.185708\n",
       "2016-01-09 19:40:00    1.184046\n",
       "2016-01-09 19:50:00    1.182997\n",
       "2016-01-09 20:00:00    1.182304\n",
       "2016-01-09 20:10:00    1.181993\n",
       "2016-01-09 20:20:00    1.182428\n",
       "2016-01-09 20:30:00    1.181735\n",
       "2016-01-09 20:40:00    1.182304\n",
       "2016-01-09 20:50:00    1.184046\n",
       "2016-01-09 21:00:00    1.182213\n",
       "2016-01-09 21:10:00    1.181641\n",
       "2016-01-09 21:20:00    1.181382\n",
       "2016-01-09 21:30:00    1.180685\n",
       "                         ...   \n",
       "2017-11-23 06:00:00    1.196908\n",
       "2017-11-23 06:10:00    1.196418\n",
       "2017-11-23 06:20:00    1.196156\n",
       "2017-11-23 06:30:00    1.196021\n",
       "2017-11-23 06:40:00    1.198492\n",
       "2017-11-23 06:50:00    1.197337\n",
       "2017-11-23 07:00:00    1.197429\n",
       "2017-11-23 07:10:00    1.197603\n",
       "2017-11-23 07:20:00    1.197472\n",
       "2017-11-23 07:30:00    1.197826\n",
       "2017-11-23 07:40:00    1.198264\n",
       "2017-11-23 07:50:00    1.197472\n",
       "2017-11-23 08:00:00    1.197385\n",
       "2017-11-23 08:10:00    1.196983\n",
       "2017-11-23 08:20:00    1.197075\n",
       "2017-11-23 08:30:00    1.198964\n",
       "2017-11-23 08:40:00    1.198745\n",
       "2017-11-23 08:50:00    1.199056\n",
       "2017-11-23 09:00:00    1.198478\n",
       "2017-11-23 09:10:00    1.198657\n",
       "2017-11-23 09:20:00    1.200903\n",
       "2017-11-23 09:30:00    1.200193\n",
       "2017-11-23 09:40:00    1.200456\n",
       "2017-11-23 09:50:00    1.199483\n",
       "2017-11-23 10:00:00    1.200105\n",
       "2017-11-23 10:10:00    1.199177\n",
       "2017-11-23 10:20:00    1.199838\n",
       "2017-11-23 10:30:00    1.199794\n",
       "2017-11-23 10:40:00    1.199439\n",
       "2017-11-23 10:50:00    1.201066\n",
       "Length: 95629, dtype: float64"
      ]
     },
     "execution_count": 4,
     "metadata": {},
     "output_type": "execute_result"
    }
   ],
   "source": [
    "bw.calc_air_density(data.T2m,data.P2m)"
   ]
  },
  {
   "cell_type": "markdown",
   "metadata": {},
   "source": [
    "Getting the time series of air density may not be as interesting as getting the average air density for the site for the time period covered by the dataset. Alternatively we can pass the mean of the temperature and pressure columns to return an average value of air density."
   ]
  },
  {
   "cell_type": "code",
   "execution_count": 5,
   "metadata": {
    "scrolled": false
   },
   "outputs": [
    {
     "data": {
      "text/plain": [
       "1.185160775505084"
      ]
     },
     "execution_count": 5,
     "metadata": {},
     "output_type": "execute_result"
    }
   ],
   "source": [
    "bw.calc_air_density(data.T2m.mean(),data.P2m.mean())"
   ]
  },
  {
   "cell_type": "markdown",
   "metadata": {},
   "source": [
    "Finally, we can scale the air density up from the measurement point to 80m higher to represent the hub height of a potential turbine. This can be done by setting the elevation_ref and elevation_site variables in the function. The function automatically assumes a lapse rate of -0.113 kg/m3/km and a specific gas constant of 286.9 J/(kg.K). These can be modified directly by setting the lapse_rate variable and the specific_gas_constant variable."
   ]
  },
  {
   "cell_type": "code",
   "execution_count": 6,
   "metadata": {},
   "outputs": [
    {
     "data": {
      "text/plain": [
       "1.176"
      ]
     },
     "execution_count": 6,
     "metadata": {},
     "output_type": "execute_result"
    }
   ],
   "source": [
    "bw.calc_air_density(data.T2m.mean(),data.P2m.mean(),elevation_ref=234,elevation_site=314)"
   ]
  }
 ],
 "metadata": {
  "kernelspec": {
   "display_name": "Python 3",
   "language": "python",
   "name": "python3"
  },
  "language_info": {
   "codemirror_mode": {
    "name": "ipython",
    "version": 3
   },
   "file_extension": ".py",
   "mimetype": "text/x-python",
   "name": "python",
   "nbconvert_exporter": "python",
   "pygments_lexer": "ipython3",
   "version": "3.6.7"
  }
 },
 "nbformat": 4,
 "nbformat_minor": 2
}
