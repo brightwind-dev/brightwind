{
 "cells": [
  {
   "cell_type": "markdown",
   "metadata": {},
   "source": [
    "# Getting Started \n",
    "***\n",
    "This guide will lead you through all the steps and installations required to start using the brightwind library, assuming a basic level of computer knowledge. These steps will include:\n",
    "\n",
    "- Installing Anaconda Python Distribution\n",
    "- Installing the brightwind library\n",
    "- Opening the brightwind library in Jupyter notebooks\n",
    "\n",
    "If you are familiar with Python environments, Git and would like to use the development verison of the brightwind library, you may prefer to follow the instructions for downloading the development (unstable) code.\n",
    "\n"
   ]
  },
  {
   "cell_type": "markdown",
   "metadata": {},
   "source": [
    "## Setup\n",
    "***\n",
    "### Step 1:\n",
    "- First, we need to download the Anaconda Python distribution, found here: https://www.anaconda.com/distribution/. Please ensure you download the current version of the installer for your machine, as if not this will cause problems.\n",
    "\n",
    "- Once the installation has completed, open 'Search' and search 'Anaconda'. You should see two applications appear, the Anaconda Prompt and the Anaconda Navigator, as shown in the image below:\n",
    "\n",
    "<center>\n",
    "\n",
    "![image1](Stable_Getting_Started_1.png)\n",
    "\n",
    "</center>\n",
    "\n",
    "- If you cannot see both applications, it is likely that Anaconda did not install properly, as this has been known to occur. Please uninstall and reinstall the program and try again. Instructions on how to install\n",
    "Anaconda can be found here: https://docs.anaconda.com/anaconda/install/\n",
    "\n",
    "***\n"
   ]
  },
  {
   "cell_type": "markdown",
   "metadata": {},
   "source": [
    "### Step 2\n",
    "- Click on Anaconda  prompt in your computer’s search bar and open it. Navigate to the root folder of your folder of choice, i.e. the folder <em>brightwind_demo</em> in this case,  and type:\n",
    "\n",
    "```\n",
    "C:\\...\\brightwind_demo> pip install brightwind \n",
    "```\n",
    "\n",
    "<center>\n",
    "\n",
    "![image2](Stable_Getting_Started_2.png)\n",
    "\n",
    "</center>\n",
    "\n",
    "\n",
    "- If you receive errors stating that the command <em> pip </em> does not exist, it is likely that Anaconda did not install properly, as this has been known to occur. Please uninstall and reinstall the program and try again. \n",
    "\n",
    "***\n"
   ]
  },
  {
   "cell_type": "markdown",
   "metadata": {},
   "source": [
    "### Step 3:\n",
    "\n",
    "* To begin using brightwind for data analysis, first open Anaconda Navigator, which you should have downloaded and installed in Steps 1 and 2.\n",
    "<br>\n",
    "<br>\n",
    "* On the Anaconda Navigator start-up page, open up the Jupyter Notebook (not Jupyter Lab). This will open a window in your default web browser. This web browser window should display a directory of all files on your computer. Navigate to the folder in which you installed brightwind in Step 2 above, or whichever other folder you would like to work in. Jupyter will be able to find brightwind no matter which folder you work in.\n",
    "\n",
    "<center>\n",
    "\n",
    "![image3](Stable_Getting_Started_3.png)\n",
    "\n",
    "</center>\n",
    "<br>\n",
    "\n",
    "* Now, in the top right-hand corner of the screen, click ‘New’ and then ‘Python 3’ to open a new Python kernel. \n",
    "\n",
    "<center>\n",
    "\n",
    "![image4](Stable_Getting_Started_4.png)\n",
    "\n",
    "</center>\n",
    "<br>\n",
    "\n",
    "* To import the brightwind code and start using the functions, type:\n",
    "```\n",
    "import brightwind as bw\n",
    "```\n",
    "into the cell and press ‘Shift’ and ‘Enter’ to import the code.\n",
    "\n",
    "<center>\n",
    "\n",
    "![](Stable_Getting_Started_5.png)\n",
    "\n",
    "</center>\n",
    "\n",
    " ***\n"
   ]
  }
 ],
 "metadata": {
  "kernelspec": {
   "display_name": "Python 3",
   "language": "python",
   "name": "python3"
  },
  "language_info": {
   "codemirror_mode": {
    "name": "ipython",
    "version": 3
   },
   "file_extension": ".py",
   "mimetype": "text/x-python",
   "name": "python",
   "nbconvert_exporter": "python",
   "pygments_lexer": "ipython3",
   "version": "3.7.3"
  }
 },
 "nbformat": 4,
 "nbformat_minor": 2
}
