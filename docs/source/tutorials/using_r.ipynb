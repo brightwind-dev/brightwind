{
 "cells": [
  {
   "cell_type": "markdown",
   "metadata": {},
   "source": [
    "# File paths in thee brightwind library - using 'r'\n",
    "***"
   ]
  },
  {
   "cell_type": "markdown",
   "metadata": {},
   "source": [
    "The brightwind library is written using Python, which means that file path must be specified in a slightly different format.\n",
    "'\\' are a special character within Python code and therefore filepaths which contain backslashes cause issues. As a workaround to this, a typical filepath i.e.\n",
    "```\n",
    "C:\\Users\\brightwinduser\\demo_data.csv \n",
    "```\n",
    "is written as\n",
    "```\n",
    "r'C:\\Users\\brightwind_user\\demo_data.csv'\n",
    "```\n",
    "This allows for Python to interpret the file path normally and ignore the usual uses of the backslashes. For example, to load the demo_data.csv file at the given location using <em>load_csv</em>\n",
    "   \n",
    " ```\n",
    "data = load_csv(r'C:\\Users\\brightwind_user\\demo_data.csv')\n",
    "```\n"
   ]
  },
  {
   "cell_type": "code",
   "execution_count": null,
   "metadata": {},
   "outputs": [],
   "source": []
  }
 ],
 "metadata": {
  "kernelspec": {
   "display_name": "Python 3",
   "language": "python",
   "name": "python3"
  },
  "language_info": {
   "codemirror_mode": {
    "name": "ipython",
    "version": 3
   },
   "file_extension": ".py",
   "mimetype": "text/x-python",
   "name": "python",
   "nbconvert_exporter": "python",
   "pygments_lexer": "ipython3",
   "version": "3.6.8"
  }
 },
 "nbformat": 4,
 "nbformat_minor": 2
}
