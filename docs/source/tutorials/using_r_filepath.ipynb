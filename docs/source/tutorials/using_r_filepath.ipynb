{
 "cells": [
  {
   "cell_type": "markdown",
   "metadata": {},
   "source": [
    "<center>\n",
    "  \n",
    "# Tutorial for using R\n",
    "</center>\n",
    "\n",
    "***"
   ]
  },
  {
   "cell_type": "code",
   "execution_count": 3,
   "metadata": {
    "scrolled": true
   },
   "outputs": [
    {
     "name": "stdout",
     "output_type": "stream",
     "text": [
      "Last updated: 25 June, 2019\n"
     ]
    }
   ],
   "source": [
    "import datetime\n",
    "print('Last updated: {}'.format(datetime.date.today().strftime('%d %B, %Y')))"
   ]
  },
  {
   "cell_type": "markdown",
   "metadata": {},
   "source": [
    "***\n",
    "## Outline: \n",
    "\n",
    "This tutorial will explain the differences in the formatting of file paths used in the brightwind library. This will include\n",
    "\n",
    "\n",
    "1. An explanation of why file paths differ in Python and the brightwind library\n",
    "1. How to work around this issue\n",
    "\n",
    "\n",
    "***"
   ]
  },
  {
   "cell_type": "markdown",
   "metadata": {},
   "source": [
    "### Step 1: File paths in Python \n",
    "\n",
    "The brightwind library is written using Python, which means that file path must be specified in a slightly different format.\n",
    "Backslashes are a special character within Python code and therefore filepaths which contain backslashes cause issues. For example, loading a csv file using a typical file path, copied and pasted from Windows file explorer will not work and throw the following error:"
   ]
  },
  {
   "cell_type": "code",
   "execution_count": 7,
   "metadata": {},
   "outputs": [
    {
     "ename": "SyntaxError",
     "evalue": "(unicode error) 'unicodeescape' codec can't decode bytes in position 2-3: truncated \\UXXXXXXXX escape (<ipython-input-7-61f362e20c87>, line 3)",
     "output_type": "error",
     "traceback": [
      "\u001b[1;36m  File \u001b[1;32m\"<ipython-input-7-61f362e20c87>\"\u001b[1;36m, line \u001b[1;32m3\u001b[0m\n\u001b[1;33m    data = bw.load_csv('C:\\Users\\myuser\\brightwind\\datasets\\demo\\MERRA-2_SE_2000-01-01_2017-06-30.csv')\u001b[0m\n\u001b[1;37m                      ^\u001b[0m\n\u001b[1;31mSyntaxError\u001b[0m\u001b[1;31m:\u001b[0m (unicode error) 'unicodeescape' codec can't decode bytes in position 2-3: truncated \\UXXXXXXXX escape\n"
     ]
    }
   ],
   "source": [
    "import brightwind as bw\n",
    "\n",
    "data = bw.load_csv('C:\\Users\\myuser\\brightwind\\datasets\\demo\\MERRA-2_SE_2000-01-01_2017-06-30.csv')"
   ]
  },
  {
   "cell_type": "markdown",
   "metadata": {},
   "source": [
    "### Step 2: Using 'r'\n",
    "\n",
    "As a workaround to this problem, the above file path can be written as:\n",
    "\n",
    "```\n",
    "r'C:\\Users\\myuser\\brightwind\\datasets\\demo\\MERRA-2_SE_2000-01-01_2017-06-30.csv'\n",
    "```\n",
    "\n",
    "The 'r' allows for the backslahsed in the filepath to be read as normal by Python and for the specified file to be found."
   ]
  },
  {
   "cell_type": "markdown",
   "metadata": {},
   "source": [
    "\n",
    "The below cell contains the link to this tutorial so someone can download it and run it for themselves. Simply replace the file name at the end with your tutorial name."
   ]
  },
  {
   "cell_type": "markdown",
   "metadata": {},
   "source": [
    "***\n",
    "This tutorial can be downloaded as a Jupyter Notebook from the following link:\n",
    "<br>\n",
    "https://github.com/brightwind-dev/brightwind/tree/master/docs/source/tutorials/using_r_filepath\n",
    "\n",
    "***"
   ]
  }
 ],
 "metadata": {
  "kernelspec": {
   "display_name": "Python 3",
   "language": "python",
   "name": "python3"
  },
  "language_info": {
   "codemirror_mode": {
    "name": "ipython",
    "version": 3
   },
   "file_extension": ".py",
   "mimetype": "text/x-python",
   "name": "python",
   "nbconvert_exporter": "python",
   "pygments_lexer": "ipython3",
   "version": "3.6.8"
  }
 },
 "nbformat": 4,
 "nbformat_minor": 2
}
